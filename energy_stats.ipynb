{
 "cells": [
  {
   "cell_type": "code",
   "execution_count": null,
   "metadata": {},
   "outputs": [],
   "source": [
    "# imports\n",
    "\n",
    "import pandas as pd\n",
    "from pathlib import Path\n",
    "import matplotlib.pyplot as plt\n",
    "import numpy as np\n",
    "from numpy import random\n",
    "import datetime\n",
    "import seaborn as sns\n",
    "\n",
    "sns.set_style(\"darkgrid\")\n",
    "%matplotlib inline"
   ]
  },
  {
   "cell_type": "code",
   "execution_count": null,
   "metadata": {},
   "outputs": [],
   "source": [
    "# Dataset : https://www.kaggle.com/datasets/jeanmidev/smart-meters-in-london"
   ]
  },
  {
   "cell_type": "code",
   "execution_count": null,
   "metadata": {},
   "outputs": [],
   "source": [
    "household_data = pd.read_csv(\"./dataset/informations_households.csv\", encoding=\"utf-8\")\n",
    "print(f\"There are {household_data['LCLid'].nunique()} households in information_households.csv\")\n",
    "print(\"Sample:\")\n",
    "household_data.head(3)"
   ]
  },
  {
   "cell_type": "code",
   "execution_count": null,
   "metadata": {},
   "outputs": [],
   "source": [
    "# Breakdown of Tariff based on Acorn Group\n",
    "\n",
    "affluency_df = household_data[household_data[\"Acorn_grouped\"].isin([\"Adversity\", \"Affluent\", \"Comfortable\"])][[\"Acorn_grouped\", \"stdorToU\", \"LCLid\"]]\n",
    "affluency_count = affluency_df.groupby([\"Acorn_grouped\"]).count().reset_index()\n",
    "affluency_grouped = affluency_df.groupby([\"Acorn_grouped\", \"stdorToU\"]).count().reset_index()\n",
    "affluency_grouped[\"hh_count\"] = affluency_grouped[\"Acorn_grouped\"].apply(lambda a: affluency_grouped[affluency_grouped[\"Acorn_grouped\"] == a][\"LCLid\"].sum())\n",
    "affluency_grouped[\"hh_percent\"] = affluency_grouped[\"LCLid\"] / affluency_grouped[\"hh_count\"] * 100\n",
    "\n",
    "chart = sns.barplot(x=\"Acorn_grouped\", y=\"hh_percent\", hue=\"stdorToU\", data=affluency_grouped)\n",
    "chart.set_xlabel(\"Acorn Group\")\n",
    "chart.set_ylabel(\"Percent Households\")\n",
    "chart.set_title(\"Tariff Breakdown\")\n",
    "chart.legend(loc = \"upper left\", bbox_to_anchor=(1,1), title=\"Tariff\");"
   ]
  },
  {
   "cell_type": "code",
   "execution_count": null,
   "metadata": {},
   "outputs": [],
   "source": [
    "acorn_data = pd.read_csv(\"./dataset/acorn_details.csv\", encoding=\"ISO-8859-1\")"
   ]
  },
  {
   "cell_type": "code",
   "execution_count": null,
   "metadata": {},
   "outputs": [],
   "source": [
    "# Get and clean data from block files, taken randomly file_count at a time\n",
    "\n",
    "hh_block_path = Path(\"./dataset/halfhourly_dataset/halfhourly_dataset/\")\n",
    "\n",
    "def get_data_from_block_files(filepath, file_count = 10):\n",
    "    # Get a random set of files and concatenate\n",
    "\n",
    "    block_list = list(filepath.glob(\"*.csv\"))\n",
    "    file_list = random.choice(block_list, file_count, replace=False)\n",
    "    final_df = pd.DataFrame()\n",
    "    for file in file_list:\n",
    "        # read file and filter only 2013 data\n",
    "        file_name = str(file).split(\"\\\\\")[-1]\n",
    "        print(f\"getting data from file: {file_name}\")\n",
    "        df = pd.read_csv(file, parse_dates=[\"tstp\"])\n",
    "        year_2013_mask = (df[\"tstp\"] >= \"2013-1-1\") & (df[\"tstp\"] <= \"2013-12-31\")\n",
    "        final_df = pd.concat([final_df, df[year_2013_mask]])\n",
    "        final_df.dropna(how=\"any\", inplace=True)\n",
    "\n",
    "\n",
    "    return final_df.reset_index(drop=True)\n",
    "\n",
    "block_data = get_data_from_block_files(hh_block_path)\n",
    "        "
   ]
  },
  {
   "cell_type": "code",
   "execution_count": null,
   "metadata": {},
   "outputs": [],
   "source": [
    "# clean up \n",
    "block_data.rename(columns={\"tstp\":\"datetime\", \"energy(kWh/hh)\":\"kWh\"}, inplace=True)\n",
    "block_data.drop(block_data[block_data[\"kWh\"].isin([\"Null\"])].index, inplace=True)\n",
    "\n",
    "print(f\"Dataset has {block_data.shape[0]} rows from {block_data.drop_duplicates(subset=['LCLid']).shape[0]} households.\")"
   ]
  },
  {
   "cell_type": "code",
   "execution_count": null,
   "metadata": {},
   "outputs": [],
   "source": [
    "# Datetime breakdown\n",
    "\n",
    "block_data[\"kWh\"] = pd.to_numeric(block_data[\"kWh\"])\n",
    "block_data[\"quarter\"] = block_data[\"datetime\"].dt.quarter\n",
    "block_data[\"date\"] = block_data[\"datetime\"].dt.date\n",
    "block_data[\"month\"] = block_data[\"datetime\"].dt.month\n",
    "block_data[\"time\"] = block_data[\"datetime\"].apply(lambda a: a.strftime(\"%I:%M %p\"))\n",
    "\n",
    "# pivot the data\n",
    "# df_pivoted = block_data.pivot_table(index = [\"LCLid\", \"date\"], columns=[\"time\"], values=[\"kWh\"], sort=False).reset_index()"
   ]
  },
  {
   "cell_type": "code",
   "execution_count": null,
   "metadata": {},
   "outputs": [],
   "source": [
    "# merge the household, acorn and power data\n",
    "\n",
    "merged_df = block_data.merge(household_data[[\"LCLid\", \"Acorn\", \"Acorn_grouped\", \"stdorToU\"]], how=\"left\", left_on=\"LCLid\", right_on=\"LCLid\", copy=False)\n",
    "acorn_group_mask = merged_df[\"Acorn_grouped\"].isin([\"Affluent\", \"Adversity\", \"Comfortable\"])\n",
    "merged_df = merged_df[acorn_group_mask].reset_index(drop=True)"
   ]
  },
  {
   "cell_type": "code",
   "execution_count": null,
   "metadata": {},
   "outputs": [],
   "source": [
    "# Assign rates\n",
    "\n",
    "peak_rate = 67.20\n",
    "off_peak_rate = 3.99\n",
    "mid_peak_rate = 11.76\n",
    "std_rate = 14.23\n",
    "\n",
    "def get_tou_tariff(date):\n",
    "    # https://www.londonhydro.com/accounts-services/electricity-rates\n",
    "\n",
    "    month = date.month\n",
    "    hour = date.hour\n",
    "\n",
    "    if month >= 5 and month <= 10:\n",
    "        #peak\n",
    "        if (hour >= 11 and hour <= 17):\n",
    "            return  peak_rate\n",
    "        # off peak\n",
    "        elif (hour > 17 and hour < 19) or (hour > 5 and hour < 11):\n",
    "            return mid_peak_rate\n",
    "        else: \n",
    "            return off_peak_rate\n",
    "    else:\n",
    "        #peak\n",
    "        if (hour >= 7 and hour <= 11) or (hour >= 17 and hour <= 19):\n",
    "            return peak_rate\n",
    "        #off peak\n",
    "        elif hour > 11 and hour < 17:\n",
    "            return mid_peak_rate\n",
    "        #mid peak\n",
    "        else: \n",
    "            return  off_peak_rate\n",
    "        \n",
    "merged_df[\"rate\"] = np.nan\n",
    "merged_df.loc[merged_df[merged_df[\"stdorToU\"] == \"Std\"].index,\"rate\"] = std_rate\n",
    "merged_df.loc[merged_df[\"rate\"].isna(),\"rate\"] = merged_df.loc[merged_df[\"rate\"].isna(), \"datetime\"].apply(lambda date: get_tou_tariff(date))\n",
    "merged_df[\"cost\"] = merged_df[\"rate\"] * merged_df[\"kWh\"] / 100\n",
    "\n",
    "# assign season\n",
    "season_mask = (merged_df[\"datetime\"].dt.month >= 5) & (merged_df[\"datetime\"].dt.month <= 10)\n",
    "merged_df[\"season\"] = \"winter\"\n",
    "merged_df.loc[season_mask, \"season\"] = \"summer\"\n"
   ]
  },
  {
   "cell_type": "code",
   "execution_count": null,
   "metadata": {},
   "outputs": [],
   "source": [
    "# Tou rates\n",
    "\n",
    "tou_rate_grouped = merged_df[merged_df[\"stdorToU\"] == \"ToU\"].pivot_table(index=\"time\", columns=\"season\", values=\"rate\", aggfunc=np.median, sort=False)\n",
    "chart = sns.lineplot(data=tou_rate_grouped)\n",
    "chart.set_xlabel(\"Time of Day\")\n",
    "chart.set_ylabel(\"pence/kWh\")\n",
    "chart.set_title(\"Time of Use Rates by Season\")\n",
    "chart.legend(loc=\"upper left\", bbox_to_anchor=(1,1))\n",
    "chart.set_xticks(np.arange(4,48,8));\n"
   ]
  },
  {
   "cell_type": "code",
   "execution_count": null,
   "metadata": {},
   "outputs": [],
   "source": [
    "pivoted_usage = merged_df.pivot_table(index=[\"month\", \"date\"], columns=\"Acorn_grouped\", values=\"kWh\", aggfunc=np.sum, sort=False).reset_index()\n",
    "median_monthly_usage  = pivoted_usage.drop(columns=[\"date\"]).groupby(\"month\").median()\n",
    "chart = sns.lineplot(data=median_monthly_usage)\n",
    "chart.set_xlabel(\"Month\")\n",
    "chart.set_ylabel(\"kWh Usage\")\n",
    "chart.set_title(\"Monthly kWh Usage\")\n",
    "chart.legend(loc=\"upper left\", bbox_to_anchor=(1,1), title=\"Acorn Group\")\n",
    "chart.set_xticks(np.arange(13));"
   ]
  },
  {
   "cell_type": "code",
   "execution_count": null,
   "metadata": {},
   "outputs": [],
   "source": [
    "# Data stats\n",
    "\n",
    "display(merged_df.drop_duplicates(subset=[\"LCLid\"]).groupby([\"Acorn\", \"Acorn_grouped\", \"stdorToU\"]).count()[\"LCLid\"])"
   ]
  },
  {
   "cell_type": "code",
   "execution_count": null,
   "metadata": {},
   "outputs": [],
   "source": [
    "# Seasonal energy usage by tariff\n",
    "\n",
    "seasonal_energy_usage = merged_df.pivot_table(index=\"time\", columns=[\"stdorToU\", \"season\"], values=\"kWh\", aggfunc=np.median, sort=False)\n",
    "seasonal_energy_usage.columns = seasonal_energy_usage.columns.to_flat_index()\n",
    "column_names = []\n",
    "for column in seasonal_energy_usage.columns:\n",
    "    column_names.append(\"-\".join(list(column)))\n",
    "\n",
    "seasonal_energy_usage.columns = column_names\n",
    "chart = sns.lineplot(data=seasonal_energy_usage)\n",
    "chart.set_xlabel(\"Time of Day\")\n",
    "chart.set_xlabel(\"Time of Day\")\n",
    "chart.set_ylabel(\"kWh Usage\")\n",
    "chart.set_title(\"kWh Usage by Season and Tariff, All groups\")\n",
    "plt.legend(loc=\"upper left\", bbox_to_anchor=(1,1))\n",
    "chart.set_xticks(np.arange(4,48,8));\n"
   ]
  },
  {
   "cell_type": "code",
   "execution_count": null,
   "metadata": {},
   "outputs": [],
   "source": [
    "# Separate each Acorn group to see variation\n",
    "\n",
    "acorn_groups = merged_df[\"Acorn\"].unique().tolist()\n",
    "acorn_groups_dict = {}\n",
    "for group in acorn_groups:\n",
    "    acorn_groups_dict[group] = merged_df[merged_df[\"Acorn\"] == group].reset_index(drop=True)\n",
    "\n",
    "fig, axes = plt.subplots(len(acorn_groups), sharex=True, figsize=(6, 12))\n",
    "for group, df in acorn_groups_dict.items():\n",
    "\n",
    "    group_df = df.pivot_table(index=\"time\", columns=[\"stdorToU\", \"season\"], values=\"kWh\", aggfunc=np.median, sort=False)\n",
    "    group_df.columns = [f\"{col[0]}-{col[1]}\" for col in group_df.columns.to_flat_index()]\n",
    "    axis = axes[acorn_groups.index(group)]\n",
    "    sns.lineplot(data=group_df, ax=axis)\n",
    "    axis.set_ylabel(\"kWh Usage\")\n",
    "    axis.set_title(group)\n",
    "    axis.legend(loc=\"upper left\", bbox_to_anchor=(1,1))\n",
    "\n",
    "# Set x-axis ticks for all subplots\n",
    "for axis in axes:\n",
    "    axis.set_xticks(np.arange(4, 48, 8))\n",
    "\n",
    "plt.suptitle(\"kWh Usage by Season and Tariff by Acorn group\");"
   ]
  },
  {
   "cell_type": "code",
   "execution_count": null,
   "metadata": {},
   "outputs": [],
   "source": [
    "# Monthly bill ToU vs Std rate\n",
    "\n",
    "total_energy_cost = merged_df.pivot_table(index=[\"month\", \"LCLid\"], columns = [\"stdorToU\"], values = \"cost\", aggfunc=np.sum).reset_index()\n",
    "per_house_energy_cost = total_energy_cost.drop(columns=[\"LCLid\"]).groupby(\"month\").median()[[\"Std\", \"ToU\"]]\n",
    "per_house_energy_cost = per_house_energy_cost.stack().reset_index()\n",
    "chart = sns.barplot(x=per_house_energy_cost[\"month\"], y=per_house_energy_cost[0], hue=per_house_energy_cost[\"stdorToU\"])\n",
    "chart.set_xlabel(\"Months\")\n",
    "chart.set_ylabel(\"Monthly Bill, Pounds\")\n",
    "chart.set_title(\"Median Monthly Bill by Tariff\")\n",
    "plt.legend(title=\"Tariff\",loc=\"upper left\", bbox_to_anchor=(1,1));\n"
   ]
  },
  {
   "cell_type": "code",
   "execution_count": null,
   "metadata": {},
   "outputs": [],
   "source": [
    "# Peak Load Analysis Total \n",
    "load_grouped = merged_df.pivot_table(index = \"date\", columns=\"time\", values=\"kWh\", aggfunc=np.sum, sort=False).dropna()\n",
    "load_max = load_grouped.max()\n",
    "load_median = load_grouped.median()\n",
    "load_profile = pd.concat([load_median, load_max], axis=1)\n",
    "load_profile.columns = [\"median kW\", \"peak kW\"]\n",
    "chart = sns.lineplot(data=load_profile)\n",
    "chart.set_xlabel(\"Time of Day\")\n",
    "chart.set_ylabel(\"kW Load\")\n",
    "chart.set_title(\"Load profile, Annual\")\n",
    "chart.legend(loc=\"upper left\", bbox_to_anchor=(1,1))\n",
    "chart.set_xticks(np.arange(4, 48, 8));"
   ]
  },
  {
   "cell_type": "code",
   "execution_count": null,
   "metadata": {},
   "outputs": [],
   "source": [
    "# Peak Load Analysis Season \n",
    "load_grouped_season = merged_df.pivot_table(index=\"date\", columns=[\"season\", \"time\"], values=\"kWh\", aggfunc=np.sum, sort=False)\n",
    "load_max_winter = load_grouped_season[\"winter\"].max()\n",
    "load_max_summer = load_grouped_season[\"summer\"].max()\n",
    "load_profile_season = pd.concat([load_max_summer, load_max_winter], axis=1)\n",
    "load_profile_season.columns=[\"summer peak kW\", \"winter peak kW\"]\n",
    "chart = sns.lineplot(data=load_profile_season)\n",
    "chart.set_xlabel(\"Time of Day\")\n",
    "chart.set_ylabel(\"kW Load\")\n",
    "chart.set_title(\"Load profile, Seasonal\")\n",
    "chart.legend(loc=\"upper left\", bbox_to_anchor=(1,1))\n",
    "chart.set_xticks(np.arange(3, 48, 8));"
   ]
  },
  {
   "cell_type": "code",
   "execution_count": null,
   "metadata": {},
   "outputs": [],
   "source": []
  },
  {
   "cell_type": "code",
   "execution_count": null,
   "metadata": {},
   "outputs": [],
   "source": []
  }
 ],
 "metadata": {
  "kernelspec": {
   "display_name": "energy_consumption_data",
   "language": "python",
   "name": "python3"
  },
  "language_info": {
   "codemirror_mode": {
    "name": "ipython",
    "version": 3
   },
   "file_extension": ".py",
   "mimetype": "text/x-python",
   "name": "python",
   "nbconvert_exporter": "python",
   "pygments_lexer": "ipython3",
   "version": "3.9.1"
  },
  "orig_nbformat": 4
 },
 "nbformat": 4,
 "nbformat_minor": 2
}
